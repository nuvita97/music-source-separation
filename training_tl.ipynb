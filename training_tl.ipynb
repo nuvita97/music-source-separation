{
 "cells": [
  {
   "cell_type": "markdown",
   "metadata": {},
   "source": [
    "# SPLEETER"
   ]
  },
  {
   "cell_type": "code",
   "execution_count": 1,
   "metadata": {},
   "outputs": [
    {
     "name": "stderr",
     "output_type": "stream",
     "text": [
      "/Users/nguyenvietthai/miniconda3/envs/ml/lib/python3.9/site-packages/pydub/utils.py:170: RuntimeWarning: Couldn't find ffmpeg or avconv - defaulting to ffmpeg, but may not work\n",
      "  warn(\"Couldn't find ffmpeg or avconv - defaulting to ffmpeg, but may not work\", RuntimeWarning)\n"
     ]
    }
   ],
   "source": [
    "import os\n",
    "import csv\n",
    "from pydub import AudioSegment"
   ]
  },
  {
   "cell_type": "code",
   "execution_count": 2,
   "metadata": {},
   "outputs": [],
   "source": [
    "# Function to calculate audio duration\n",
    "def calculate_duration(audio_path):\n",
    "    audio = AudioSegment.from_file(audio_path)\n",
    "    return audio.duration_seconds\n",
    "\n",
    "# Function to create CSV file\n",
    "def create_csv(input_dir, output_csv):\n",
    "    with open(output_csv, 'w', newline='') as csvfile:\n",
    "        fieldnames = ['mix_path', 'vocals_path', 'drums_path', 'bass_path', 'other_path', 'duration']\n",
    "        writer = csv.DictWriter(csvfile, fieldnames=fieldnames)\n",
    "        writer.writeheader()\n",
    "\n",
    "        for root, dirs, files in os.walk(input_dir):\n",
    "            for file in files:\n",
    "                if file == 'mixture.wav':\n",
    "                    mix_path = os.path.join(root, file)\n",
    "                    vocals_path = os.path.join(root.replace('mixtures', 'sources'), 'vocals.wav')\n",
    "                    drums_path = os.path.join(root.replace('mixtures', 'sources'), 'drums.wav')\n",
    "                    bass_path = os.path.join(root.replace('mixtures', 'sources'), 'bass.wav')\n",
    "                    other_path = os.path.join(root.replace('mixtures', 'sources'), 'other.wav')\n",
    "                    duration = calculate_duration(mix_path)\n",
    "\n",
    "                    writer.writerow({\n",
    "                        'mix_path': mix_path,\n",
    "                        'vocals_path': vocals_path,\n",
    "                        'drums_path': drums_path,\n",
    "                        'bass_path': bass_path,\n",
    "                        'other_path': other_path,\n",
    "                        'duration': duration\n",
    "                    })\n",
    "\n",
    "# Specify your input directory and output CSV file\n",
    "input_directory = 'data/mixtures/train'\n",
    "output_csv_file = 'configs/train.csv'\n",
    "\n",
    "# Call the function to create the CSV file\n",
    "create_csv(input_directory, output_csv_file)\n"
   ]
  },
  {
   "cell_type": "code",
   "execution_count": 3,
   "metadata": {},
   "outputs": [],
   "source": [
    "# Specify your input directory and output CSV file\n",
    "input_directory = 'data/mixtures/val'\n",
    "output_csv_file = 'configs/validation.csv'\n",
    "\n",
    "# Call the function to create the CSV file\n",
    "create_csv(input_directory, output_csv_file)"
   ]
  },
  {
   "cell_type": "code",
   "execution_count": 7,
   "metadata": {},
   "outputs": [
    {
     "name": "stdout",
     "output_type": "stream",
     "text": [
      "INFO:spleeter:Start model training\n",
      "INFO:spleeter:Model training done\n"
     ]
    }
   ],
   "source": [
    "!spleeter train -p configs/config.json -d /"
   ]
  },
  {
   "cell_type": "code",
   "execution_count": 9,
   "metadata": {},
   "outputs": [
    {
     "name": "stdout",
     "output_type": "stream",
     "text": [
      "Traceback (most recent call last):\n",
      "  File \"/Users/nguyenvietthai/miniconda3/envs/ml/bin/spleeter\", line 8, in <module>\n",
      "    sys.exit(entrypoint())\n",
      "  File \"/Users/nguyenvietthai/miniconda3/envs/ml/lib/python3.9/site-packages/spleeter/__main__.py\", line 256, in entrypoint\n",
      "    spleeter()\n",
      "  File \"/Users/nguyenvietthai/miniconda3/envs/ml/lib/python3.9/site-packages/typer/main.py\", line 214, in __call__\n",
      "    return get_command(self)(*args, **kwargs)\n",
      "  File \"/Users/nguyenvietthai/miniconda3/envs/ml/lib/python3.9/site-packages/click/core.py\", line 829, in __call__\n",
      "    return self.main(*args, **kwargs)\n",
      "  File \"/Users/nguyenvietthai/miniconda3/envs/ml/lib/python3.9/site-packages/click/core.py\", line 782, in main\n",
      "    rv = self.invoke(ctx)\n",
      "  File \"/Users/nguyenvietthai/miniconda3/envs/ml/lib/python3.9/site-packages/click/core.py\", line 1259, in invoke\n",
      "    return _process_result(sub_ctx.command.invoke(sub_ctx))\n",
      "  File \"/Users/nguyenvietthai/miniconda3/envs/ml/lib/python3.9/site-packages/click/core.py\", line 1066, in invoke\n",
      "    return ctx.invoke(self.callback, **ctx.params)\n",
      "  File \"/Users/nguyenvietthai/miniconda3/envs/ml/lib/python3.9/site-packages/click/core.py\", line 610, in invoke\n",
      "    return callback(*args, **kwargs)\n",
      "  File \"/Users/nguyenvietthai/miniconda3/envs/ml/lib/python3.9/site-packages/typer/main.py\", line 497, in wrapper\n",
      "    return callback(**use_params)  # type: ignore\n",
      "  File \"/Users/nguyenvietthai/miniconda3/envs/ml/lib/python3.9/site-packages/spleeter/__main__.py\", line 219, in evaluate\n",
      "    separate(\n",
      "  File \"/Users/nguyenvietthai/miniconda3/envs/ml/lib/python3.9/site-packages/spleeter/__main__.py\", line 114, in separate\n",
      "    from .separator import Separator\n",
      "  File \"/Users/nguyenvietthai/miniconda3/envs/ml/lib/python3.9/site-packages/spleeter/separator.py\", line 27, in <module>\n",
      "    from librosa.core import istft, stft\n",
      "  File \"/Users/nguyenvietthai/miniconda3/envs/ml/lib/python3.9/site-packages/librosa/__init__.py\", line 211, in <module>\n",
      "    from . import core\n",
      "  File \"/Users/nguyenvietthai/miniconda3/envs/ml/lib/python3.9/site-packages/librosa/core/__init__.py\", line 5, in <module>\n",
      "    from .convert import *  # pylint: disable=wildcard-import\n",
      "  File \"/Users/nguyenvietthai/miniconda3/envs/ml/lib/python3.9/site-packages/librosa/core/convert.py\", line 7, in <module>\n",
      "    from . import notation\n",
      "  File \"/Users/nguyenvietthai/miniconda3/envs/ml/lib/python3.9/site-packages/librosa/core/notation.py\", line 8, in <module>\n",
      "    from ..util.exceptions import ParameterError\n",
      "  File \"/Users/nguyenvietthai/miniconda3/envs/ml/lib/python3.9/site-packages/librosa/util/__init__.py\", line 83, in <module>\n",
      "    from .utils import *  # pylint: disable=wildcard-import\n",
      "  File \"/Users/nguyenvietthai/miniconda3/envs/ml/lib/python3.9/site-packages/librosa/util/utils.py\", line 10, in <module>\n",
      "    import numba\n",
      "  File \"/Users/nguyenvietthai/miniconda3/envs/ml/lib/python3.9/site-packages/numba/__init__.py\", line 15, in <module>\n",
      "    from . import config, errors, _runtests as runtests, types\n",
      "  File \"/Users/nguyenvietthai/miniconda3/envs/ml/lib/python3.9/site-packages/numba/types/__init__.py\", line 110, in <module>\n",
      "    long_ = _make_signed(np.long)\n",
      "  File \"/Users/nguyenvietthai/miniconda3/envs/ml/lib/python3.9/site-packages/numpy/__init__.py\", line 333, in __getattr__\n",
      "    raise AttributeError(\"module {!r} has no attribute \"\n",
      "AttributeError: module 'numpy' has no attribute 'long'\n"
     ]
    }
   ],
   "source": [
    "!spleeter evaluate -p spleeter:4stems --mus_dir data -o eval_output"
   ]
  },
  {
   "cell_type": "code",
   "execution_count": 20,
   "metadata": {},
   "outputs": [
    {
     "name": "stdout",
     "output_type": "stream",
     "text": [
      "Traceback (most recent call last):\n",
      "  File \"/Users/nguyenvietthai/miniconda3/envs/ml/bin/spleeter\", line 8, in <module>\n",
      "    sys.exit(entrypoint())\n",
      "  File \"/Users/nguyenvietthai/miniconda3/envs/ml/lib/python3.9/site-packages/spleeter/__main__.py\", line 256, in entrypoint\n",
      "    spleeter()\n",
      "  File \"/Users/nguyenvietthai/miniconda3/envs/ml/lib/python3.9/site-packages/typer/main.py\", line 214, in __call__\n",
      "    return get_command(self)(*args, **kwargs)\n",
      "  File \"/Users/nguyenvietthai/miniconda3/envs/ml/lib/python3.9/site-packages/click/core.py\", line 829, in __call__\n",
      "    return self.main(*args, **kwargs)\n",
      "  File \"/Users/nguyenvietthai/miniconda3/envs/ml/lib/python3.9/site-packages/click/core.py\", line 782, in main\n",
      "    rv = self.invoke(ctx)\n",
      "  File \"/Users/nguyenvietthai/miniconda3/envs/ml/lib/python3.9/site-packages/click/core.py\", line 1259, in invoke\n",
      "    return _process_result(sub_ctx.command.invoke(sub_ctx))\n",
      "  File \"/Users/nguyenvietthai/miniconda3/envs/ml/lib/python3.9/site-packages/click/core.py\", line 1066, in invoke\n",
      "    return ctx.invoke(self.callback, **ctx.params)\n",
      "  File \"/Users/nguyenvietthai/miniconda3/envs/ml/lib/python3.9/site-packages/click/core.py\", line 610, in invoke\n",
      "    return callback(*args, **kwargs)\n",
      "  File \"/Users/nguyenvietthai/miniconda3/envs/ml/lib/python3.9/site-packages/typer/main.py\", line 497, in wrapper\n",
      "    return callback(**use_params)  # type: ignore\n",
      "  File \"/Users/nguyenvietthai/miniconda3/envs/ml/lib/python3.9/site-packages/spleeter/__main__.py\", line 114, in separate\n",
      "    from .separator import Separator\n",
      "  File \"/Users/nguyenvietthai/miniconda3/envs/ml/lib/python3.9/site-packages/spleeter/separator.py\", line 27, in <module>\n",
      "    from librosa.core import istft, stft\n",
      "  File \"/Users/nguyenvietthai/miniconda3/envs/ml/lib/python3.9/site-packages/librosa/__init__.py\", line 211, in <module>\n",
      "    from . import core\n",
      "  File \"/Users/nguyenvietthai/miniconda3/envs/ml/lib/python3.9/site-packages/librosa/core/__init__.py\", line 5, in <module>\n",
      "    from .convert import *  # pylint: disable=wildcard-import\n",
      "  File \"/Users/nguyenvietthai/miniconda3/envs/ml/lib/python3.9/site-packages/librosa/core/convert.py\", line 7, in <module>\n",
      "    from . import notation\n",
      "  File \"/Users/nguyenvietthai/miniconda3/envs/ml/lib/python3.9/site-packages/librosa/core/notation.py\", line 8, in <module>\n",
      "    from ..util.exceptions import ParameterError\n",
      "  File \"/Users/nguyenvietthai/miniconda3/envs/ml/lib/python3.9/site-packages/librosa/util/__init__.py\", line 83, in <module>\n",
      "    from .utils import *  # pylint: disable=wildcard-import\n",
      "  File \"/Users/nguyenvietthai/miniconda3/envs/ml/lib/python3.9/site-packages/librosa/util/utils.py\", line 10, in <module>\n",
      "    import numba\n",
      "  File \"/Users/nguyenvietthai/miniconda3/envs/ml/lib/python3.9/site-packages/numba/__init__.py\", line 196, in <module>\n",
      "    import numba.typed\n",
      "  File \"/Users/nguyenvietthai/miniconda3/envs/ml/lib/python3.9/site-packages/numba/typed/__init__.py\", line 3, in <module>\n",
      "    from .typeddict import Dict\n",
      "  File \"/Users/nguyenvietthai/miniconda3/envs/ml/lib/python3.9/site-packages/numba/typed/typeddict.py\", line 20, in <module>\n",
      "    def _make_dict(keyty, valty):\n",
      "  File \"/Users/nguyenvietthai/miniconda3/envs/ml/lib/python3.9/site-packages/numba/decorators.py\", line 238, in njit\n",
      "    return jit(*args, **kws)\n",
      "  File \"/Users/nguyenvietthai/miniconda3/envs/ml/lib/python3.9/site-packages/numba/decorators.py\", line 175, in jit\n",
      "    return wrapper(pyfunc)\n",
      "  File \"/Users/nguyenvietthai/miniconda3/envs/ml/lib/python3.9/site-packages/numba/decorators.py\", line 189, in wrapper\n",
      "    disp = dispatcher(py_func=func, locals=locals,\n",
      "  File \"/Users/nguyenvietthai/miniconda3/envs/ml/lib/python3.9/site-packages/numba/dispatcher.py\", line 650, in __init__\n",
      "    self.targetctx = self.targetdescr.target_context\n",
      "  File \"/Users/nguyenvietthai/miniconda3/envs/ml/lib/python3.9/site-packages/numba/targets/registry.py\", line 50, in target_context\n",
      "    return self._toplevel_target_context\n",
      "  File \"/Users/nguyenvietthai/miniconda3/envs/ml/lib/python3.9/site-packages/numba/utils.py\", line 390, in __get__\n",
      "    res = instance.__dict__[self.name] = self.func(instance)\n",
      "  File \"/Users/nguyenvietthai/miniconda3/envs/ml/lib/python3.9/site-packages/numba/targets/registry.py\", line 34, in _toplevel_target_context\n",
      "    return cpu.CPUContext(self.typing_context)\n",
      "  File \"/Users/nguyenvietthai/miniconda3/envs/ml/lib/python3.9/site-packages/numba/targets/base.py\", line 260, in __init__\n",
      "    self.init()\n",
      "  File \"/Users/nguyenvietthai/miniconda3/envs/ml/lib/python3.9/site-packages/numba/compiler_lock.py\", line 32, in _acquire_compile_lock\n",
      "    return func(*args, **kwargs)\n",
      "  File \"/Users/nguyenvietthai/miniconda3/envs/ml/lib/python3.9/site-packages/numba/targets/cpu.py\", line 51, in init\n",
      "    self._internal_codegen = codegen.JITCPUCodegen(\"numba.exec\")\n",
      "  File \"/Users/nguyenvietthai/miniconda3/envs/ml/lib/python3.9/site-packages/numba/targets/codegen.py\", line 628, in __init__\n",
      "    self._init(self._llvm_module)\n",
      "  File \"/Users/nguyenvietthai/miniconda3/envs/ml/lib/python3.9/site-packages/numba/targets/codegen.py\", line 637, in _init\n",
      "    tm = target.create_target_machine(**tm_options)\n",
      "TypeError: create_target_machine() got an unexpected keyword argument 'jitdebug'\n"
     ]
    }
   ],
   "source": [
    "!spleeter separate -o audio_output -p spleeter:4stems mixture.wav"
   ]
  },
  {
   "cell_type": "code",
   "execution_count": 18,
   "metadata": {},
   "outputs": [
    {
     "data": {
      "text/plain": [
       "'1.26.0'"
      ]
     },
     "execution_count": 18,
     "metadata": {},
     "output_type": "execute_result"
    }
   ],
   "source": [
    "import numpy\n",
    "numpy.__version__"
   ]
  },
  {
   "cell_type": "code",
   "execution_count": null,
   "metadata": {},
   "outputs": [],
   "source": []
  }
 ],
 "metadata": {
  "kernelspec": {
   "display_name": "ml",
   "language": "python",
   "name": "python3"
  },
  "language_info": {
   "codemirror_mode": {
    "name": "ipython",
    "version": 3
   },
   "file_extension": ".py",
   "mimetype": "text/x-python",
   "name": "python",
   "nbconvert_exporter": "python",
   "pygments_lexer": "ipython3",
   "version": "3.9.18"
  }
 },
 "nbformat": 4,
 "nbformat_minor": 2
}
