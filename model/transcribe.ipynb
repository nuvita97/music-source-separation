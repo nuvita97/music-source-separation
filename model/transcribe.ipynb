{
 "cells": [
  {
   "cell_type": "code",
   "execution_count": 1,
   "id": "174fe8c831eb7f2f",
   "metadata": {
    "ExecuteTime": {
     "end_time": "2024-01-29T21:03:21.936907600Z",
     "start_time": "2024-01-29T21:03:14.920944Z"
    },
    "collapsed": false
   },
   "outputs": [
    {
     "name": "stderr",
     "output_type": "stream",
     "text": [
      "100%|███████████████████████████████████████| 139M/139M [00:03<00:00, 45.6MiB/s]\n"
     ]
    }
   ],
   "source": [
    "import whisper\n",
    "model = whisper.load_model(\"base\")"
   ]
  },
  {
   "cell_type": "code",
   "execution_count": 16,
   "id": "d8232888c53de14b",
   "metadata": {
    "ExecuteTime": {
     "end_time": "2024-01-29T21:06:06.889708Z",
     "start_time": "2024-01-29T21:06:01.178495Z"
    },
    "collapsed": false
   },
   "outputs": [],
   "source": [
    "import os\n",
    "ffmpeg_path = \"Users/nguyenvietthai/miniconda3/envs/al/lib/python3.9/site-packages/ffmpeg\"  \n",
    "os.environ['PATH'] += f':{os.path.dirname(ffmpeg_path)}'"
   ]
  },
  {
   "cell_type": "code",
   "execution_count": 17,
   "id": "2144d8a5fbc0820f",
   "metadata": {
    "ExecuteTime": {
     "end_time": "2024-01-29T21:05:59.600317200Z",
     "start_time": "2024-01-29T21:05:59.582455400Z"
    },
    "collapsed": false
   },
   "outputs": [
    {
     "data": {
      "text/plain": [
       "'/Users/nguyenvietthai/miniconda3/envs/al/bin:/Users/nguyenvietthai/miniconda3/condabin:/Applications/ARX-3.9.1.app/Contents/bin:/Users/nguyenvietthai/.nvm/versions/node/v18.15.0/bin:/Library/Frameworks/Python.framework/Versions/3.10/bin:/usr/local/bin:/System/Cryptexes/App/usr/bin:/usr/bin:/bin:/usr/sbin:/sbin:/var/run/com.apple.security.cryptexd/codex.system/bootstrap/usr/local/bin:/var/run/com.apple.security.cryptexd/codex.system/bootstrap/usr/bin:/var/run/com.apple.security.cryptexd/codex.system/bootstrap/usr/appleinternal/bin:/path/to:Users/nguyenvietthai/miniconda3/envs/al/lib:Users/nguyenvietthai/miniconda3/envs/al/lib/python3.9/site-packages:Users/nguyenvietthai/miniconda3/envs/al/lib/python3.9/site-packages'"
      ]
     },
     "execution_count": 17,
     "metadata": {},
     "output_type": "execute_result"
    }
   ],
   "source": [
    "os.environ['PATH']"
   ]
  },
  {
   "cell_type": "code",
   "execution_count": 22,
   "id": "481b81b41c00dcdb",
   "metadata": {
    "ExecuteTime": {
     "end_time": "2024-01-29T21:08:55.820848700Z",
     "start_time": "2024-01-29T21:08:49.472371300Z"
    },
    "collapsed": false
   },
   "outputs": [
    {
     "name": "stderr",
     "output_type": "stream",
     "text": [
      "/Users/nguyenvietthai/miniconda3/envs/al/lib/python3.9/site-packages/whisper/transcribe.py:115: UserWarning: FP16 is not supported on CPU; using FP32 instead\n",
      "  warnings.warn(\"FP16 is not supported on CPU; using FP32 instead\")\n"
     ]
    },
    {
     "name": "stdout",
     "output_type": "stream",
     "text": [
      "Detecting language using up to the first 30 seconds. Use `--language` to specify the language\n",
      "Detected language: English\n",
      "[00:00.000 --> 00:07.000]  I know the seasons have changed, it's changing all around\n",
      "[00:07.000 --> 00:12.000]  I know the reasons you've arranged, it's definitely down\n",
      "[00:12.000 --> 00:16.000]  Where does the peace flow in this night?\n",
      "[00:16.000 --> 00:21.000]  Where will my heart come back tonight?\n",
      "[00:21.000 --> 00:29.000]  I'm all back, I speak of the pieces that I left in and I'm all back\n",
      "[00:29.000 --> 00:34.000]  Feel away from you, and I'll be fine\n",
      "[00:34.000 --> 00:37.000]  Give me nothing gone, through the knocking door there\n",
      "[00:37.000 --> 00:43.000]  I know I'll always have this too, but I'm a little piece of you\n"
     ]
    },
    {
     "data": {
      "text/plain": [
       "\" I know the seasons have changed, it's changing all around I know the reasons you've arranged, it's definitely down Where does the peace flow in this night? Where will my heart come back tonight? I'm all back, I speak of the pieces that I left in and I'm all back Feel away from you, and I'll be fine Give me nothing gone, through the knocking door there I know I'll always have this too, but I'm a little piece of you\""
      ]
     },
     "execution_count": 22,
     "metadata": {},
     "output_type": "execute_result"
    }
   ],
   "source": [
    "result = model.transcribe(\"../audio/input/uploaded_audio.mp3\",  verbose = True)\n",
    "result[\"text\"]"
   ]
  },
  {
   "cell_type": "code",
   "execution_count": 34,
   "id": "37416e2174126329",
   "metadata": {
    "collapsed": false
   },
   "outputs": [
    {
     "name": "stdout",
     "output_type": "stream",
     "text": [
      "0.0 - 7.0:  I know the seasons have changed, it's changing all around\n",
      "7.0 - 12.0:  I know the reasons you've arranged, it's definitely down\n",
      "12.0 - 16.0:  Where does the peace flow in this night?\n",
      "16.0 - 21.0:  Where will my heart come back tonight?\n",
      "21.0 - 29.0:  I'm all back, I speak of the pieces that I left in and I'm all back\n",
      "29.0 - 34.0:  Feel away from you, and I'll be fine\n",
      "34.0 - 37.0:  Give me nothing gone, through the knocking door there\n",
      "37.0 - 43.0:  I know I'll always have this too, but I'm a little piece of you\n"
     ]
    }
   ],
   "source": [
    "for sentence in result['segments']:\n",
    "    # print(sentence['start'], sentence['start'], sentence['text'])\n",
    "    print(f\"{sentence['start']} - {sentence['end']}: {sentence['text']}\")"
   ]
  },
  {
   "cell_type": "code",
   "execution_count": 29,
   "id": "5038c650",
   "metadata": {},
   "outputs": [
    {
     "data": {
      "text/plain": [
       "{'text': \" I know the seasons have changed, it's changing all around I know the reasons you've arranged, it's definitely down Where does the peace flow in this night? Where will my heart come back tonight? I'm all back, I speak of the pieces that I left in and I'm all back Feel away from you, and I'll be fine Give me nothing gone, through the knocking door there I know I'll always have this too, but I'm a little piece of you\",\n",
       " 'segments': [{'id': 0,\n",
       "   'seek': 0,\n",
       "   'start': 0.0,\n",
       "   'end': 7.0,\n",
       "   'text': \" I know the seasons have changed, it's changing all around\",\n",
       "   'tokens': [50364,\n",
       "    286,\n",
       "    458,\n",
       "    264,\n",
       "    15050,\n",
       "    362,\n",
       "    3105,\n",
       "    11,\n",
       "    309,\n",
       "    311,\n",
       "    4473,\n",
       "    439,\n",
       "    926,\n",
       "    50714],\n",
       "   'temperature': 0.0,\n",
       "   'avg_logprob': -0.47753625445895725,\n",
       "   'compression_ratio': 1.617283950617284,\n",
       "   'no_speech_prob': 0.6351965665817261},\n",
       "  {'id': 1,\n",
       "   'seek': 0,\n",
       "   'start': 7.0,\n",
       "   'end': 12.0,\n",
       "   'text': \" I know the reasons you've arranged, it's definitely down\",\n",
       "   'tokens': [50714,\n",
       "    286,\n",
       "    458,\n",
       "    264,\n",
       "    4112,\n",
       "    291,\n",
       "    600,\n",
       "    18721,\n",
       "    11,\n",
       "    309,\n",
       "    311,\n",
       "    2138,\n",
       "    760,\n",
       "    50964],\n",
       "   'temperature': 0.0,\n",
       "   'avg_logprob': -0.47753625445895725,\n",
       "   'compression_ratio': 1.617283950617284,\n",
       "   'no_speech_prob': 0.6351965665817261},\n",
       "  {'id': 2,\n",
       "   'seek': 0,\n",
       "   'start': 12.0,\n",
       "   'end': 16.0,\n",
       "   'text': ' Where does the peace flow in this night?',\n",
       "   'tokens': [50964, 2305, 775, 264, 4336, 3095, 294, 341, 1818, 30, 51164],\n",
       "   'temperature': 0.0,\n",
       "   'avg_logprob': -0.47753625445895725,\n",
       "   'compression_ratio': 1.617283950617284,\n",
       "   'no_speech_prob': 0.6351965665817261},\n",
       "  {'id': 3,\n",
       "   'seek': 0,\n",
       "   'start': 16.0,\n",
       "   'end': 21.0,\n",
       "   'text': ' Where will my heart come back tonight?',\n",
       "   'tokens': [51164, 2305, 486, 452, 1917, 808, 646, 4440, 30, 51414],\n",
       "   'temperature': 0.0,\n",
       "   'avg_logprob': -0.47753625445895725,\n",
       "   'compression_ratio': 1.617283950617284,\n",
       "   'no_speech_prob': 0.6351965665817261},\n",
       "  {'id': 4,\n",
       "   'seek': 0,\n",
       "   'start': 21.0,\n",
       "   'end': 29.0,\n",
       "   'text': \" I'm all back, I speak of the pieces that I left in and I'm all back\",\n",
       "   'tokens': [51414,\n",
       "    286,\n",
       "    478,\n",
       "    439,\n",
       "    646,\n",
       "    11,\n",
       "    286,\n",
       "    1710,\n",
       "    295,\n",
       "    264,\n",
       "    3755,\n",
       "    300,\n",
       "    286,\n",
       "    1411,\n",
       "    294,\n",
       "    293,\n",
       "    286,\n",
       "    478,\n",
       "    439,\n",
       "    646,\n",
       "    51814],\n",
       "   'temperature': 0.0,\n",
       "   'avg_logprob': -0.47753625445895725,\n",
       "   'compression_ratio': 1.617283950617284,\n",
       "   'no_speech_prob': 0.6351965665817261},\n",
       "  {'id': 5,\n",
       "   'seek': 2900,\n",
       "   'start': 29.0,\n",
       "   'end': 34.0,\n",
       "   'text': \" Feel away from you, and I'll be fine\",\n",
       "   'tokens': [50364,\n",
       "    14113,\n",
       "    1314,\n",
       "    490,\n",
       "    291,\n",
       "    11,\n",
       "    293,\n",
       "    286,\n",
       "    603,\n",
       "    312,\n",
       "    2489,\n",
       "    50614],\n",
       "   'temperature': 0.0,\n",
       "   'avg_logprob': -0.5661706924438477,\n",
       "   'compression_ratio': 1.2727272727272727,\n",
       "   'no_speech_prob': 0.05974055826663971},\n",
       "  {'id': 6,\n",
       "   'seek': 2900,\n",
       "   'start': 34.0,\n",
       "   'end': 37.0,\n",
       "   'text': ' Give me nothing gone, through the knocking door there',\n",
       "   'tokens': [50614,\n",
       "    5303,\n",
       "    385,\n",
       "    1825,\n",
       "    2780,\n",
       "    11,\n",
       "    807,\n",
       "    264,\n",
       "    24085,\n",
       "    2853,\n",
       "    456,\n",
       "    50764],\n",
       "   'temperature': 0.0,\n",
       "   'avg_logprob': -0.5661706924438477,\n",
       "   'compression_ratio': 1.2727272727272727,\n",
       "   'no_speech_prob': 0.05974055826663971},\n",
       "  {'id': 7,\n",
       "   'seek': 2900,\n",
       "   'start': 37.0,\n",
       "   'end': 43.0,\n",
       "   'text': \" I know I'll always have this too, but I'm a little piece of you\",\n",
       "   'tokens': [50764,\n",
       "    286,\n",
       "    458,\n",
       "    286,\n",
       "    603,\n",
       "    1009,\n",
       "    362,\n",
       "    341,\n",
       "    886,\n",
       "    11,\n",
       "    457,\n",
       "    286,\n",
       "    478,\n",
       "    257,\n",
       "    707,\n",
       "    2522,\n",
       "    295,\n",
       "    291,\n",
       "    51064],\n",
       "   'temperature': 0.0,\n",
       "   'avg_logprob': -0.5661706924438477,\n",
       "   'compression_ratio': 1.2727272727272727,\n",
       "   'no_speech_prob': 0.05974055826663971}],\n",
       " 'language': 'en'}"
      ]
     },
     "execution_count": 29,
     "metadata": {},
     "output_type": "execute_result"
    }
   ],
   "source": [
    "result"
   ]
  },
  {
   "cell_type": "code",
   "execution_count": 33,
   "id": "65c4ba97",
   "metadata": {},
   "outputs": [
    {
     "name": "stdout",
     "output_type": "stream",
     "text": [
      "37.0 - 43.0:  I know I'll always have this too, but I'm a little piece of you\n"
     ]
    }
   ],
   "source": [
    "print(f\"{sentence['start']} - {sentence['end']}: {sentence['text']}\")"
   ]
  },
  {
   "cell_type": "code",
   "execution_count": null,
   "id": "ec56ad31",
   "metadata": {},
   "outputs": [],
   "source": []
  }
 ],
 "metadata": {
  "kernelspec": {
   "display_name": "Python 3",
   "language": "python",
   "name": "python3"
  },
  "language_info": {
   "codemirror_mode": {
    "name": "ipython",
    "version": 3
   },
   "file_extension": ".py",
   "mimetype": "text/x-python",
   "name": "python",
   "nbconvert_exporter": "python",
   "pygments_lexer": "ipython3",
   "version": "3.9.18"
  }
 },
 "nbformat": 4,
 "nbformat_minor": 5
}
