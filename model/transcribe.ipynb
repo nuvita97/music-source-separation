{
 "cells": [
  {
   "cell_type": "code",
   "execution_count": 1,
   "outputs": [],
   "source": [
    "import whisper\n",
    "model = whisper.load_model(\"base\")"
   ],
   "metadata": {
    "collapsed": false,
    "ExecuteTime": {
     "end_time": "2024-01-29T21:03:21.936907600Z",
     "start_time": "2024-01-29T21:03:14.920944Z"
    }
   },
   "id": "174fe8c831eb7f2f"
  },
  {
   "cell_type": "code",
   "execution_count": 2,
   "outputs": [
    {
     "data": {
      "text/plain": "'C:\\\\Users\\\\HP\\\\Documents\\\\EPITA S3\\\\Action Learning\\\\music-source-separation\\\\model'"
     },
     "execution_count": 2,
     "metadata": {},
     "output_type": "execute_result"
    }
   ],
   "source": [
    "pwd"
   ],
   "metadata": {
    "collapsed": false,
    "ExecuteTime": {
     "end_time": "2024-01-29T21:05:59.600317200Z",
     "start_time": "2024-01-29T21:05:59.582455400Z"
    }
   },
   "id": "2144d8a5fbc0820f"
  },
  {
   "cell_type": "code",
   "execution_count": 3,
   "outputs": [
    {
     "name": "stderr",
     "output_type": "stream",
     "text": [
      "C:\\Users\\HP\\Documents\\EPITA S3\\Action Learning\\newENV\\Lib\\site-packages\\whisper\\transcribe.py:115: UserWarning: FP16 is not supported on CPU; using FP32 instead\n",
      "  warnings.warn(\"FP16 is not supported on CPU; using FP32 instead\")\n"
     ]
    },
    {
     "name": "stdout",
     "output_type": "stream",
     "text": [
      "Detecting language using up to the first 30 seconds. Use `--language` to specify the language\n",
      "Detected language: English\n",
      "[00:00.000 --> 00:04.000]  If this night is not forever\n",
      "[00:04.000 --> 00:06.000]  At least we are together\n",
      "[00:06.000 --> 00:08.000]  I know I'm not alone\n",
      "[00:08.000 --> 00:10.000]  I know I'm not alone\n",
      "[00:10.000 --> 00:14.000]  Anywhere we're together\n",
      "[00:14.000 --> 00:16.000]  We're far from still together\n",
      "[00:16.000 --> 00:18.000]  I know I'm not alone\n",
      "[00:18.000 --> 00:22.000]  I know I'm not alone\n"
     ]
    },
    {
     "data": {
      "text/plain": "\" If this night is not forever At least we are together I know I'm not alone I know I'm not alone Anywhere we're together We're far from still together I know I'm not alone I know I'm not alone\""
     },
     "execution_count": 3,
     "metadata": {},
     "output_type": "execute_result"
    }
   ],
   "source": [
    "result = model.transcribe(\"test.mp3\",  verbose = True)\n",
    "result[\"text\"]"
   ],
   "metadata": {
    "collapsed": false,
    "ExecuteTime": {
     "end_time": "2024-01-29T21:06:06.889708Z",
     "start_time": "2024-01-29T21:06:01.178495Z"
    }
   },
   "id": "d8232888c53de14b"
  },
  {
   "cell_type": "code",
   "execution_count": 4,
   "outputs": [
    {
     "name": "stdout",
     "output_type": "stream",
     "text": [
      "Detecting language using up to the first 30 seconds. Use `--language` to specify the language\n",
      "Detected language: English\n",
      "[00:00.000 --> 00:07.000]  I know the seasons have changed, it's changing all around\n",
      "[00:07.000 --> 00:12.000]  I know the reasons you've arranged, it's definitely down\n",
      "[00:12.000 --> 00:16.000]  Where does the peace flow in this night?\n",
      "[00:16.000 --> 00:21.000]  Where will my heart come back tonight?\n",
      "[00:21.000 --> 00:29.000]  I'm all back, I speak of the pieces that I left in and I'm all back\n",
      "[00:29.000 --> 00:34.000]  Feel away from you, and I'll be fine\n",
      "[00:34.000 --> 00:37.000]  Give me nothing gone, through the knocking door there\n",
      "[00:37.000 --> 00:43.000]  I know I'll always have this too, but I'm a little piece of you\n"
     ]
    },
    {
     "data": {
      "text/plain": "\" I know the seasons have changed, it's changing all around I know the reasons you've arranged, it's definitely down Where does the peace flow in this night? Where will my heart come back tonight? I'm all back, I speak of the pieces that I left in and I'm all back Feel away from you, and I'll be fine Give me nothing gone, through the knocking door there I know I'll always have this too, but I'm a little piece of you\""
     },
     "execution_count": 4,
     "metadata": {},
     "output_type": "execute_result"
    }
   ],
   "source": [
    "result = model.transcribe(\"../mixture.wav\",  verbose = True)\n",
    "result[\"text\"]"
   ],
   "metadata": {
    "collapsed": false,
    "ExecuteTime": {
     "end_time": "2024-01-29T21:08:55.820848700Z",
     "start_time": "2024-01-29T21:08:49.472371300Z"
    }
   },
   "id": "481b81b41c00dcdb"
  },
  {
   "cell_type": "code",
   "execution_count": null,
   "outputs": [],
   "source": [],
   "metadata": {
    "collapsed": false
   },
   "id": "37416e2174126329"
  }
 ],
 "metadata": {
  "kernelspec": {
   "display_name": "Python 3",
   "language": "python",
   "name": "python3"
  },
  "language_info": {
   "codemirror_mode": {
    "name": "ipython",
    "version": 2
   },
   "file_extension": ".py",
   "mimetype": "text/x-python",
   "name": "python",
   "nbconvert_exporter": "python",
   "pygments_lexer": "ipython2",
   "version": "2.7.6"
  }
 },
 "nbformat": 4,
 "nbformat_minor": 5
}
