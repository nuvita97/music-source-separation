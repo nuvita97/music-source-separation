{
 "cells": [
  {
   "cell_type": "code",
   "execution_count": 12,
   "metadata": {
    "ExecuteTime": {
     "end_time": "2024-01-30T13:29:21.100465600Z",
     "start_time": "2024-01-30T13:29:21.084549Z"
    }
   },
   "outputs": [],
   "source": [
    "from openunmix import predict\n",
    "import torchaudio\n",
    "from IPython.display import Audio\n"
   ]
  },
  {
   "cell_type": "code",
   "execution_count": null,
   "outputs": [],
   "source": [
    "!pip uninstall openunmix"
   ],
   "metadata": {
    "collapsed": false,
    "is_executing": true,
    "ExecuteTime": {
     "start_time": "2024-01-30T12:36:33.475646200Z"
    }
   }
  },
  {
   "cell_type": "code",
   "execution_count": 13,
   "metadata": {
    "ExecuteTime": {
     "end_time": "2024-01-30T13:30:09.395247800Z",
     "start_time": "2024-01-30T13:30:09.247447300Z"
    }
   },
   "outputs": [
    {
     "data": {
      "text/plain": "(tensor([[0., 0., 0.,  ..., 0., 0., 0.],\n         [0., 0., 0.,  ..., 0., 0., 0.]]),\n 48000)"
     },
     "execution_count": 13,
     "metadata": {},
     "output_type": "execute_result"
    }
   ],
   "source": [
    "# file_path = \"audio/input/uploaded_audio.mp3\"\n",
    "file_path = \"test.mp3\"\n",
    "\n",
    "waveform, sample_rate = torchaudio.load(file_path)\n",
    "\n",
    "waveform, sample_rate"
   ]
  },
  {
   "cell_type": "code",
   "execution_count": 16,
   "metadata": {
    "ExecuteTime": {
     "end_time": "2024-01-30T13:45:44.700760100Z",
     "start_time": "2024-01-30T13:41:06.906766200Z"
    }
   },
   "outputs": [
    {
     "name": "stderr",
     "output_type": "stream",
     "text": [
      "Downloading: \"https://zenodo.org/api/files/f8209c3e-ba60-48cf-8e79-71ae65beca61/vocals-bccbd9aa.pth\" to C:\\Users\\HP/.cache\\torch\\hub\\checkpoints\\vocals-bccbd9aa.pth\n",
      "100%|██████████| 108M/108M [00:53<00:00, 2.12MB/s] \n",
      "Downloading: \"https://zenodo.org/api/files/f8209c3e-ba60-48cf-8e79-71ae65beca61/drums-69e0ebd4.pth\" to C:\\Users\\HP/.cache\\torch\\hub\\checkpoints\\drums-69e0ebd4.pth\n",
      "100%|██████████| 108M/108M [00:44<00:00, 2.53MB/s] \n",
      "Downloading: \"https://zenodo.org/api/files/f8209c3e-ba60-48cf-8e79-71ae65beca61/bass-2ca1ce51.pth\" to C:\\Users\\HP/.cache\\torch\\hub\\checkpoints\\bass-2ca1ce51.pth\n",
      "100%|██████████| 108M/108M [00:42<00:00, 2.64MB/s] \n",
      "Downloading: \"https://zenodo.org/api/files/f8209c3e-ba60-48cf-8e79-71ae65beca61/other-c8c5b3e6.pth\" to C:\\Users\\HP/.cache\\torch\\hub\\checkpoints\\other-c8c5b3e6.pth\n",
      "100%|██████████| 108M/108M [00:57<00:00, 1.95MB/s] \n",
      "C:\\Users\\HP\\Documents\\EPITA S3\\Action Learning\\newENV\\Lib\\site-packages\\openunmix\\utils.py:298: UserWarning: resample to model sample rate\n",
      "  warnings.warn(\"resample to model sample rate\")\n",
      "C:\\Users\\HP\\Documents\\EPITA S3\\Action Learning\\newENV\\Lib\\site-packages\\torchaudio\\functional\\functional.py:1371: UserWarning: \"sinc_interpolation\" resampling method name is being deprecated and replaced by \"sinc_interp_hann\" in the next release. The default behavior remains unchanged.\n",
      "  warnings.warn(\n"
     ]
    },
    {
     "data": {
      "text/plain": "{'vocals': tensor([[[0., 0., 0.,  ..., 0., 0., 0.],\n          [0., 0., 0.,  ..., 0., 0., 0.]]]),\n 'drums': tensor([[[0., 0., 0.,  ..., 0., 0., 0.],\n          [0., 0., 0.,  ..., 0., 0., 0.]]]),\n 'bass': tensor([[[0., 0., 0.,  ..., 0., 0., 0.],\n          [0., 0., 0.,  ..., 0., 0., 0.]]]),\n 'other': tensor([[[0., 0., 0.,  ..., 0., 0., 0.],\n          [0., 0., 0.,  ..., 0., 0., 0.]]])}"
     },
     "execution_count": 16,
     "metadata": {},
     "output_type": "execute_result"
    }
   ],
   "source": [
    "estimates = predict.separate(\n",
    "    waveform,\n",
    "    sample_rate\n",
    ")\n",
    "\n",
    "estimates"
   ]
  },
  {
   "cell_type": "code",
   "execution_count": null,
   "metadata": {},
   "outputs": [],
   "source": []
  }
 ],
 "metadata": {
  "kernelspec": {
   "display_name": "al",
   "language": "python",
   "name": "python3"
  },
  "language_info": {
   "codemirror_mode": {
    "name": "ipython",
    "version": 3
   },
   "file_extension": ".py",
   "mimetype": "text/x-python",
   "name": "python",
   "nbconvert_exporter": "python",
   "pygments_lexer": "ipython3",
   "version": "3.9.18"
  }
 },
 "nbformat": 4,
 "nbformat_minor": 2
}
